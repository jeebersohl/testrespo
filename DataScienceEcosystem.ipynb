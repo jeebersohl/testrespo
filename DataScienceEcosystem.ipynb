{
 "cells": [
  {
   "cell_type": "markdown",
   "id": "6e4faec5-2e03-46f3-9e4b-c10e191fb208",
   "metadata": {},
   "source": [
    "# Data Science Tools And Ecosystems"
   ]
  },
  {
   "cell_type": "markdown",
   "id": "c89007a2-8caa-4486-8046-a27225701e72",
   "metadata": {},
   "source": [
    "## In this notebook, Data Science Tools and Ecosystems are summarized."
   ]
  },
  {
   "cell_type": "markdown",
   "id": "02acc099-f3c4-4c26-99a7-ddc9d5bfdfad",
   "metadata": {},
   "source": [
    "**Objectives:**\n",
    "- List of popular languages used in data science.\n",
    "- List of commonly used libraries in data science.\n",
    "- List of data science tools.\n",
    "- Examples of arithmetic expressions in Python.\n",
    "- Examples of markdown headings and tables."
   ]
  },
  {
   "cell_type": "markdown",
   "id": "dac87d30-52ea-49b9-a407-1158af12a014",
   "metadata": {},
   "source": [
    "## Some of the popular languages that Data Scientists use are:\n",
    "1. Python\n",
    "2. R\n",
    "3. SQL"
   ]
  },
  {
   "cell_type": "markdown",
   "id": "c4dbe7fc-9e2e-4de1-b59e-3fe73c752583",
   "metadata": {},
   "source": [
    "## Some of the commonly used libraries used by Data Scientists include:\n",
    "1. TensorFlow\n",
    "2. PyTorch\n",
    "3. SciPy"
   ]
  },
  {
   "cell_type": "markdown",
   "id": "e027e320-2dbc-47f5-9f64-05ef1741ce47",
   "metadata": {},
   "source": [
    "|Data Science Tools|\n",
    "|------|\n",
    "|Jupyter Notebook|\n",
    "|RStudio|\n",
    "|TensorFlow.js|"
   ]
  },
  {
   "cell_type": "markdown",
   "id": "3e3cb710-7f3c-4084-af9f-ccf65f8b5fbd",
   "metadata": {},
   "source": [
    "### Below are a few examples of evaluating arithmetic expressions in Python."
   ]
  },
  {
   "cell_type": "code",
   "execution_count": 1,
   "id": "af3119f3-b553-412a-8ea9-6fb0181abaa9",
   "metadata": {},
   "outputs": [
    {
     "data": {
      "text/plain": [
       "17"
      ]
     },
     "execution_count": 1,
     "metadata": {},
     "output_type": "execute_result"
    }
   ],
   "source": [
    "(3*4)+5\n",
    "# This is a simple arithmetic expression to multiply then add integers."
   ]
  },
  {
   "cell_type": "code",
   "execution_count": 2,
   "id": "a4c40b07-0d24-446b-bec8-26f81daa4523",
   "metadata": {},
   "outputs": [
    {
     "name": "stdout",
     "output_type": "stream",
     "text": [
      "3.33\n"
     ]
    }
   ],
   "source": [
    "minutes = 200\n",
    "hours = minutes / 60\n",
    "rounded_hours = round(hours, 2)\n",
    "print(rounded_hours)\n",
    "# This will convert 200 minutes into hours by dividing by 60 and rounding to 2 decimal places."
   ]
  },
  {
   "cell_type": "markdown",
   "id": "89f0b91e-fcfe-4d6f-a598-fb16f8840931",
   "metadata": {},
   "source": [
    "# Author\n",
    "## Jason Ebersohl"
   ]
  }
 ],
 "metadata": {
  "kernelspec": {
   "display_name": "Python 3 (ipykernel)",
   "language": "python",
   "name": "python3"
  },
  "language_info": {
   "codemirror_mode": {
    "name": "ipython",
    "version": 3
   },
   "file_extension": ".py",
   "mimetype": "text/x-python",
   "name": "python",
   "nbconvert_exporter": "python",
   "pygments_lexer": "ipython3",
   "version": "3.11.7"
  }
 },
 "nbformat": 4,
 "nbformat_minor": 5
}
